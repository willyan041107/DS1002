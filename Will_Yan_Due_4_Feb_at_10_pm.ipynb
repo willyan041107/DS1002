{
  "nbformat": 4,
  "nbformat_minor": 0,
  "metadata": {
    "colab": {
      "provenance": [],
      "include_colab_link": true
    },
    "kernelspec": {
      "name": "python3",
      "display_name": "Python 3"
    },
    "language_info": {
      "name": "python"
    }
  },
  "cells": [
    {
      "cell_type": "markdown",
      "metadata": {
        "id": "view-in-github",
        "colab_type": "text"
      },
      "source": [
        "<a href=\"https://colab.research.google.com/github/willyan041107/DS1002/blob/main/Will_Yan_Due_4_Feb_at_10_pm.ipynb\" target=\"_parent\"><img src=\"https://colab.research.google.com/assets/colab-badge.svg\" alt=\"Open In Colab\"/></a>"
      ]
    },
    {
      "cell_type": "markdown",
      "source": [
        "## DS 1002 homework due Sunday Feb 4 at 10 pm\n"
      ],
      "metadata": {
        "id": "zAw2bmn-TjFJ"
      }
    },
    {
      "cell_type": "markdown",
      "source": [
        "\n",
        "The notebook from Wednesday's class is in my GitHib repository, including the little script we wrote at the end to find mangos in a list of fruit.  The file is called `MorePythonBasics.ipynb`.\n",
        "\n",
        "(By the way I wondered if the correct spelling was \"mangos\" or \"mangoes\" and I found [this](https://www.mango.org/blog-mangos-or-mangoes/)!  Who knew?  There's a National Mango Board!  And they're prepared to adjudicate this and other difficult mango-related questions.)\n",
        "\n",
        "\n"
      ],
      "metadata": {
        "id": "Cmf4xleCSWCu"
      }
    },
    {
      "cell_type": "markdown",
      "source": [
        "### Problem 1:  finding fruit\n",
        "\n",
        "Adapt the function we wrote in class so that it takes two arguments,\n",
        "\n",
        "`fruit` and `hungryfor` ,\n",
        "\n",
        "and then searches through the list `fruit` for the item `hungryfor`.  The line that calls the function should look like\n",
        "\n",
        "`find_fruit(food, hungryfor)`\n",
        "\n",
        "Make it print out the results in the same way, so for example if `food` is what we entered in class and `hungryfor = \"tomatoes\"` then the output will be\n",
        "\n",
        "```python\n",
        "No tomatoes here.\n",
        "No tomatoes here.\n",
        "No tomatoes here.\n",
        "No tomatoes here.\n",
        "No tomatoes here.\n",
        "```\n",
        "Test your code by changing the values of `food` and `hungryfor` and make sure the output is what you expect.  Show a few outputs, each in its own code chunk.\n",
        "\n"
      ],
      "metadata": {
        "id": "rJLyGryAThhp"
      }
    },
    {
      "cell_type": "code",
      "source": [
        "def find_fruit(fruit, hungryfor):\n",
        "    for item in fruit:\n",
        "        if item == hungryfor:\n",
        "            print(f\"Found {hungryfor}!\")\n",
        "        else:\n",
        "            print(f\"No {hungryfor} here.\")"
      ],
      "metadata": {
        "id": "YXwLLFCt6H2f"
      },
      "execution_count": 7,
      "outputs": []
    },
    {
      "cell_type": "code",
      "source": [
        "# Put your first function call here\n",
        "food = [\"apple\", \"banana\", \"cherry\", \"date\", \"elderberry\"]\n",
        "hungryfor = \"banana\"\n",
        "find_fruit(food, hungryfor)"
      ],
      "metadata": {
        "id": "bYdqsfrh6KnE",
        "colab": {
          "base_uri": "https://localhost:8080/"
        },
        "outputId": "a9a025ac-d33a-41e8-d0aa-d3a5061b1cc9"
      },
      "execution_count": 8,
      "outputs": [
        {
          "output_type": "stream",
          "name": "stdout",
          "text": [
            "No banana here.\n",
            "Found banana!\n",
            "No banana here.\n",
            "No banana here.\n",
            "No banana here.\n"
          ]
        }
      ]
    },
    {
      "cell_type": "code",
      "source": [
        "# Make more code chunks for additional function calls\n",
        "# Example 2\n",
        "hungryfor = \"tomato\"\n",
        "find_fruit(food, hungryfor)"
      ],
      "metadata": {
        "colab": {
          "base_uri": "https://localhost:8080/"
        },
        "id": "2UVWdBwasjdd",
        "outputId": "fc746310-fe58-451d-c174-1aecc75b3e6f"
      },
      "execution_count": 9,
      "outputs": [
        {
          "output_type": "stream",
          "name": "stdout",
          "text": [
            "No tomato here.\n",
            "No tomato here.\n",
            "No tomato here.\n",
            "No tomato here.\n",
            "No tomato here.\n"
          ]
        }
      ]
    },
    {
      "cell_type": "code",
      "source": [
        "# Example 3\n",
        "hungryfor = \"cherry\"\n",
        "find_fruit(food, hungryfor)"
      ],
      "metadata": {
        "colab": {
          "base_uri": "https://localhost:8080/"
        },
        "id": "ZeSNkG87snrc",
        "outputId": "32208bff-4e0b-4006-bf0f-079510ce5c2e"
      },
      "execution_count": 10,
      "outputs": [
        {
          "output_type": "stream",
          "name": "stdout",
          "text": [
            "No cherry here.\n",
            "No cherry here.\n",
            "Found cherry!\n",
            "No cherry here.\n",
            "No cherry here.\n"
          ]
        }
      ]
    },
    {
      "cell_type": "markdown",
      "source": [
        "#### Notes\n",
        "1. Once you have run a code chunk in the notebook, it will remember that it has been run.  You don't have to call the function in the same code chunk where the function is defined.  In other words, to call the function with new inputs you can simply make a new code chunk, change the inputs, and call the function.  *You don't have to retype the definition of the function each time.*\n",
        "\n",
        "2. Make sure you clean things up when you're done, so you don't include old code that doesn't work or old incorrect outputs.\n"
      ],
      "metadata": {
        "id": "AMp-a1ym6W7w"
      }
    },
    {
      "cell_type": "markdown",
      "source": [
        "### Problem 2:  the `input()` function\n",
        "\n",
        "(a) Programming gets way more fun when you start to interact with your own programs!  Here is a function that lets you start doing that.  Run the following code and see what happens:\n"
      ],
      "metadata": {
        "id": "R-s9cZ6GYWNX"
      }
    },
    {
      "cell_type": "code",
      "source": [
        "input()\n",
        "print(\"Hello there!\")"
      ],
      "metadata": {
        "id": "IEK8O2qNYkXn"
      },
      "execution_count": null,
      "outputs": []
    },
    {
      "cell_type": "markdown",
      "source": [
        "[link text](https://)\n",
        "\n",
        "```\n",
        "# This is formatted as code\n",
        "```\n",
        "\n",
        "(b) As you just saw, the code waits for you to enter something before it continues.  If you want to actually use the input in the code, you should assign its value to a variable:"
      ],
      "metadata": {
        "id": "sktZu8wWzFF6"
      }
    },
    {
      "cell_type": "code",
      "source": [
        "message = input()\n",
        "print(message)"
      ],
      "metadata": {
        "id": "fMmBkzbyz9Ty"
      },
      "execution_count": null,
      "outputs": []
    },
    {
      "cell_type": "markdown",
      "source": [
        "(c) Now you can start interacting.  Write some code that asks the user what they are hungry for (using a print statement), and then takes the user input, and then runs the `find_fruit` function from the previous code block using the user input as the `hungryfor` variable.  Test your code, and then include a few different outputs that demonstrate that the code works."
      ],
      "metadata": {
        "id": "ny41z-dQYmjQ"
      }
    },
    {
      "cell_type": "code",
      "source": [
        "# Ask the user what they are hungry for\n",
        "print(\"What are you hungry for?\")\n",
        "hungryfor = input()"
      ],
      "metadata": {
        "id": "SKAVoAZ00xOx",
        "colab": {
          "base_uri": "https://localhost:8080/"
        },
        "outputId": "bfe4c065-aec2-40ab-81f5-adc91e4a20d8"
      },
      "execution_count": 11,
      "outputs": [
        {
          "name": "stdout",
          "output_type": "stream",
          "text": [
            "What are you hungry for?\n",
            "banana\n"
          ]
        }
      ]
    },
    {
      "cell_type": "code",
      "source": [
        "# Predefined list of fruits to search through\n",
        "food = [\"apple\", \"banana\", \"cherry\", \"date\", \"elderberry\"]"
      ],
      "metadata": {
        "id": "D4Ht3wzNuYEi"
      },
      "execution_count": 12,
      "outputs": []
    },
    {
      "cell_type": "code",
      "source": [
        "# Search for the user's input in the list of fruits\n",
        "find_fruit(food, hungryfor)"
      ],
      "metadata": {
        "id": "5NsXa5H2uZal",
        "colab": {
          "base_uri": "https://localhost:8080/"
        },
        "outputId": "bbd35887-e427-48a4-ae45-35879798f292"
      },
      "execution_count": 13,
      "outputs": [
        {
          "output_type": "stream",
          "name": "stdout",
          "text": [
            "No banana here.\n",
            "Found banana!\n",
            "No banana here.\n",
            "No banana here.\n",
            "No banana here.\n"
          ]
        }
      ]
    },
    {
      "cell_type": "code",
      "source": [
        "# If the user enters \"banana\", the output should be \"Found banana!\"\n",
        "# If the user enters \"tomato\", since it's not in the list, the output should be \"No tomato here.\""
      ],
      "metadata": {
        "id": "xBbZqmRVytvc"
      },
      "execution_count": 14,
      "outputs": []
    },
    {
      "cell_type": "markdown",
      "source": [
        "### Problem 3:  ratings  \n",
        "Write a piece of code which prompts a user with the question \"What is your rating? (1-10)\" and then asks for user input.  Let's say the input is 3.  Once the input is received, print out a message that says.\n",
        "\n",
        "\"Your rating is *** .\"\n",
        "\n",
        "Obviously, your program should print the number of stars corresponding to the input!  If the input is 5, it should print\n",
        "\n",
        "\"Your rating is ***** .\"\n",
        "\n",
        "Show at least two outputs of your code."
      ],
      "metadata": {
        "id": "5CWOlHBz0xoZ"
      }
    },
    {
      "cell_type": "code",
      "source": [
        "def print_stars(rating):\n",
        "    if rating.isdigit():\n",
        "        rating = int(rating)\n",
        "        if 1 <= rating <= 10:\n",
        "            print(\"Your rating is \" + \"*\" * rating + \".\")\n",
        "        else:\n",
        "            print(\"Rating should be between 1 and 10.\")\n",
        "    else:\n",
        "        print(\"Please enter a valid number.\")"
      ],
      "metadata": {
        "id": "bAYQrtPcwgjK"
      },
      "execution_count": 15,
      "outputs": []
    },
    {
      "cell_type": "code",
      "source": [
        "# Simulate the first input\n",
        "print(\"Simulated user input: '5'\")\n",
        "print_stars('5')"
      ],
      "metadata": {
        "id": "zDQshSlcwifE",
        "colab": {
          "base_uri": "https://localhost:8080/"
        },
        "outputId": "3d468924-088c-4652-fc2e-a5e45fe4475f"
      },
      "execution_count": 16,
      "outputs": [
        {
          "output_type": "stream",
          "name": "stdout",
          "text": [
            "Simulated user input: '5'\n",
            "Your rating is *****.\n"
          ]
        }
      ]
    },
    {
      "cell_type": "code",
      "source": [
        "# Simulate the second input\n",
        "print(\"Simulated user input: '8'\")\n",
        "print_stars('8')"
      ],
      "metadata": {
        "id": "Pv4S2AJAwkBw",
        "colab": {
          "base_uri": "https://localhost:8080/"
        },
        "outputId": "e2ca9f23-01bc-4fe3-9884-52fddc92cc2f"
      },
      "execution_count": 17,
      "outputs": [
        {
          "output_type": "stream",
          "name": "stdout",
          "text": [
            "Simulated user input: '8'\n",
            "Your rating is ********.\n"
          ]
        }
      ]
    },
    {
      "cell_type": "markdown",
      "source": [
        "You do not have to do this as part of the assignment, but one thing to think about with any code that has **interactivity** is that you want to make it **robust**.  This means you should imagine someone is *trying* to break your code, and you should try to make it as indestructible as possible.\n",
        "\n",
        "What will happen to your code if someone enters 3.5?  Or -12?  Or \"nonsense\"?  Test it and see.  Think about how you might guard against errors.\n"
      ],
      "metadata": {
        "id": "VRfc9puT2yac"
      }
    }
  ]
}