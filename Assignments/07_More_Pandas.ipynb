{
  "nbformat": 4,
  "nbformat_minor": 0,
  "metadata": {
    "colab": {
      "provenance": [],
      "include_colab_link": true
    },
    "kernelspec": {
      "name": "python3",
      "display_name": "Python 3"
    },
    "language_info": {
      "name": "python"
    }
  },
  "cells": [
    {
      "cell_type": "markdown",
      "metadata": {
        "id": "view-in-github",
        "colab_type": "text"
      },
      "source": [
        "<a href=\"https://colab.research.google.com/github/willyan041107/DS1002/blob/main/Assignments/07_More_Pandas.ipynb\" target=\"_parent\"><img src=\"https://colab.research.google.com/assets/colab-badge.svg\" alt=\"Open In Colab\"/></a>"
      ]
    },
    {
      "cell_type": "markdown",
      "source": [
        "# More pandas exercises\n",
        "\n",
        "Create a Colab notebook. Complete the tasks as specified in the directions. Run each cell to return the desired output. Save your notebook back to your GitHub repository and submit the GitHub URL for your notebook for review."
      ],
      "metadata": {
        "id": "phbaQTT5gy8A"
      }
    },
    {
      "cell_type": "markdown",
      "source": [
        "1.  Load the following dataset into Colab and perform the requested operations in code.\n",
        "\n",
        " Source: https://ds1002-resources.s3.amazonaws.com/data/ride_sharing.csv"
      ],
      "metadata": {
        "id": "WlPHuSLARJBJ"
      }
    },
    {
      "cell_type": "code",
      "source": [
        "# Load pandas and the data\n",
        "from google.colab import files\n",
        "uploaded = files.upload()"
      ],
      "metadata": {
        "id": "kdFLCHtOg53p",
        "outputId": "b19e79fa-46ae-47bd-ce03-8bc81597abd4",
        "colab": {
          "base_uri": "https://localhost:8080/",
          "height": 74
        }
      },
      "execution_count": 2,
      "outputs": [
        {
          "output_type": "display_data",
          "data": {
            "text/plain": [
              "<IPython.core.display.HTML object>"
            ],
            "text/html": [
              "\n",
              "     <input type=\"file\" id=\"files-cc26b59a-18a5-4f73-b85b-9e3b4ba162a8\" name=\"files[]\" multiple disabled\n",
              "        style=\"border:none\" />\n",
              "     <output id=\"result-cc26b59a-18a5-4f73-b85b-9e3b4ba162a8\">\n",
              "      Upload widget is only available when the cell has been executed in the\n",
              "      current browser session. Please rerun this cell to enable.\n",
              "      </output>\n",
              "      <script>// Copyright 2017 Google LLC\n",
              "//\n",
              "// Licensed under the Apache License, Version 2.0 (the \"License\");\n",
              "// you may not use this file except in compliance with the License.\n",
              "// You may obtain a copy of the License at\n",
              "//\n",
              "//      http://www.apache.org/licenses/LICENSE-2.0\n",
              "//\n",
              "// Unless required by applicable law or agreed to in writing, software\n",
              "// distributed under the License is distributed on an \"AS IS\" BASIS,\n",
              "// WITHOUT WARRANTIES OR CONDITIONS OF ANY KIND, either express or implied.\n",
              "// See the License for the specific language governing permissions and\n",
              "// limitations under the License.\n",
              "\n",
              "/**\n",
              " * @fileoverview Helpers for google.colab Python module.\n",
              " */\n",
              "(function(scope) {\n",
              "function span(text, styleAttributes = {}) {\n",
              "  const element = document.createElement('span');\n",
              "  element.textContent = text;\n",
              "  for (const key of Object.keys(styleAttributes)) {\n",
              "    element.style[key] = styleAttributes[key];\n",
              "  }\n",
              "  return element;\n",
              "}\n",
              "\n",
              "// Max number of bytes which will be uploaded at a time.\n",
              "const MAX_PAYLOAD_SIZE = 100 * 1024;\n",
              "\n",
              "function _uploadFiles(inputId, outputId) {\n",
              "  const steps = uploadFilesStep(inputId, outputId);\n",
              "  const outputElement = document.getElementById(outputId);\n",
              "  // Cache steps on the outputElement to make it available for the next call\n",
              "  // to uploadFilesContinue from Python.\n",
              "  outputElement.steps = steps;\n",
              "\n",
              "  return _uploadFilesContinue(outputId);\n",
              "}\n",
              "\n",
              "// This is roughly an async generator (not supported in the browser yet),\n",
              "// where there are multiple asynchronous steps and the Python side is going\n",
              "// to poll for completion of each step.\n",
              "// This uses a Promise to block the python side on completion of each step,\n",
              "// then passes the result of the previous step as the input to the next step.\n",
              "function _uploadFilesContinue(outputId) {\n",
              "  const outputElement = document.getElementById(outputId);\n",
              "  const steps = outputElement.steps;\n",
              "\n",
              "  const next = steps.next(outputElement.lastPromiseValue);\n",
              "  return Promise.resolve(next.value.promise).then((value) => {\n",
              "    // Cache the last promise value to make it available to the next\n",
              "    // step of the generator.\n",
              "    outputElement.lastPromiseValue = value;\n",
              "    return next.value.response;\n",
              "  });\n",
              "}\n",
              "\n",
              "/**\n",
              " * Generator function which is called between each async step of the upload\n",
              " * process.\n",
              " * @param {string} inputId Element ID of the input file picker element.\n",
              " * @param {string} outputId Element ID of the output display.\n",
              " * @return {!Iterable<!Object>} Iterable of next steps.\n",
              " */\n",
              "function* uploadFilesStep(inputId, outputId) {\n",
              "  const inputElement = document.getElementById(inputId);\n",
              "  inputElement.disabled = false;\n",
              "\n",
              "  const outputElement = document.getElementById(outputId);\n",
              "  outputElement.innerHTML = '';\n",
              "\n",
              "  const pickedPromise = new Promise((resolve) => {\n",
              "    inputElement.addEventListener('change', (e) => {\n",
              "      resolve(e.target.files);\n",
              "    });\n",
              "  });\n",
              "\n",
              "  const cancel = document.createElement('button');\n",
              "  inputElement.parentElement.appendChild(cancel);\n",
              "  cancel.textContent = 'Cancel upload';\n",
              "  const cancelPromise = new Promise((resolve) => {\n",
              "    cancel.onclick = () => {\n",
              "      resolve(null);\n",
              "    };\n",
              "  });\n",
              "\n",
              "  // Wait for the user to pick the files.\n",
              "  const files = yield {\n",
              "    promise: Promise.race([pickedPromise, cancelPromise]),\n",
              "    response: {\n",
              "      action: 'starting',\n",
              "    }\n",
              "  };\n",
              "\n",
              "  cancel.remove();\n",
              "\n",
              "  // Disable the input element since further picks are not allowed.\n",
              "  inputElement.disabled = true;\n",
              "\n",
              "  if (!files) {\n",
              "    return {\n",
              "      response: {\n",
              "        action: 'complete',\n",
              "      }\n",
              "    };\n",
              "  }\n",
              "\n",
              "  for (const file of files) {\n",
              "    const li = document.createElement('li');\n",
              "    li.append(span(file.name, {fontWeight: 'bold'}));\n",
              "    li.append(span(\n",
              "        `(${file.type || 'n/a'}) - ${file.size} bytes, ` +\n",
              "        `last modified: ${\n",
              "            file.lastModifiedDate ? file.lastModifiedDate.toLocaleDateString() :\n",
              "                                    'n/a'} - `));\n",
              "    const percent = span('0% done');\n",
              "    li.appendChild(percent);\n",
              "\n",
              "    outputElement.appendChild(li);\n",
              "\n",
              "    const fileDataPromise = new Promise((resolve) => {\n",
              "      const reader = new FileReader();\n",
              "      reader.onload = (e) => {\n",
              "        resolve(e.target.result);\n",
              "      };\n",
              "      reader.readAsArrayBuffer(file);\n",
              "    });\n",
              "    // Wait for the data to be ready.\n",
              "    let fileData = yield {\n",
              "      promise: fileDataPromise,\n",
              "      response: {\n",
              "        action: 'continue',\n",
              "      }\n",
              "    };\n",
              "\n",
              "    // Use a chunked sending to avoid message size limits. See b/62115660.\n",
              "    let position = 0;\n",
              "    do {\n",
              "      const length = Math.min(fileData.byteLength - position, MAX_PAYLOAD_SIZE);\n",
              "      const chunk = new Uint8Array(fileData, position, length);\n",
              "      position += length;\n",
              "\n",
              "      const base64 = btoa(String.fromCharCode.apply(null, chunk));\n",
              "      yield {\n",
              "        response: {\n",
              "          action: 'append',\n",
              "          file: file.name,\n",
              "          data: base64,\n",
              "        },\n",
              "      };\n",
              "\n",
              "      let percentDone = fileData.byteLength === 0 ?\n",
              "          100 :\n",
              "          Math.round((position / fileData.byteLength) * 100);\n",
              "      percent.textContent = `${percentDone}% done`;\n",
              "\n",
              "    } while (position < fileData.byteLength);\n",
              "  }\n",
              "\n",
              "  // All done.\n",
              "  yield {\n",
              "    response: {\n",
              "      action: 'complete',\n",
              "    }\n",
              "  };\n",
              "}\n",
              "\n",
              "scope.google = scope.google || {};\n",
              "scope.google.colab = scope.google.colab || {};\n",
              "scope.google.colab._files = {\n",
              "  _uploadFiles,\n",
              "  _uploadFilesContinue,\n",
              "};\n",
              "})(self);\n",
              "</script> "
            ]
          },
          "metadata": {}
        },
        {
          "output_type": "stream",
          "name": "stdout",
          "text": [
            "Saving ride_sharing.csv to ride_sharing.csv\n"
          ]
        }
      ]
    },
    {
      "cell_type": "code",
      "source": [
        "import pandas as pd"
      ],
      "metadata": {
        "id": "9Pre38APEfi7"
      },
      "execution_count": 6,
      "outputs": []
    },
    {
      "cell_type": "code",
      "source": [
        "df = pd.read_csv('ride_sharing.csv')"
      ],
      "metadata": {
        "id": "QVDSGbVPErbg"
      },
      "execution_count": 8,
      "outputs": []
    },
    {
      "cell_type": "code",
      "source": [
        "# show how many rows and columns are in this dataset\n",
        "print(\"Number of rows and columns:\", df.shape)"
      ],
      "metadata": {
        "id": "Lfh8suAyhKQW",
        "outputId": "d8c3f692-eca0-43dc-c7ea-6f1629041faf",
        "colab": {
          "base_uri": "https://localhost:8080/"
        }
      },
      "execution_count": 9,
      "outputs": [
        {
          "output_type": "stream",
          "name": "stdout",
          "text": [
            "Number of rows and columns: (25760, 10)\n"
          ]
        }
      ]
    },
    {
      "cell_type": "code",
      "source": [
        "# The first column, \"duration\" is seen as a string.\n",
        "# Using two snippets of code, clean this column up so that\n",
        "# is now an integer (int64)\n",
        "df['duration'] = df['duration'].str.replace(' minutes', '').astype('int64')"
      ],
      "metadata": {
        "id": "KK5-y9nzhMVq"
      },
      "execution_count": 10,
      "outputs": []
    },
    {
      "cell_type": "code",
      "source": [
        "# Now display the datatypes in the updated dataframe\n",
        "print(\"\\nDatatypes in the updated dataframe:\\n\", df.dtypes)"
      ],
      "metadata": {
        "id": "QyGJUshvhz1J",
        "outputId": "20c9ad02-4bfc-417f-bbb4-73bd35232935",
        "colab": {
          "base_uri": "https://localhost:8080/"
        }
      },
      "execution_count": 11,
      "outputs": [
        {
          "output_type": "stream",
          "name": "stdout",
          "text": [
            "\n",
            "Datatypes in the updated dataframe:\n",
            " duration            int64\n",
            "station_A_id        int64\n",
            "station_A_name     object\n",
            "station_B_id        int64\n",
            "station_B_name     object\n",
            "bike_id             int64\n",
            "user_type           int64\n",
            "user_birth_year     int64\n",
            "user_gender        object\n",
            "tire_size           int64\n",
            "dtype: object\n"
          ]
        }
      ]
    },
    {
      "cell_type": "code",
      "source": [
        "# Show the min and max values of ride durations (the shortest and longest rides)\n",
        "# Hint: If 'df' is the name of your dataframe, simply specify the column name\n",
        "# and then append the .min() or .max() methods.\n",
        "min_duration = df['duration'].min()\n",
        "max_duration = df['duration'].max()\n",
        "print(\"\\nMin and Max ride durations:\", min_duration, \"minutes,\", max_duration, \"minutes\")"
      ],
      "metadata": {
        "id": "UCA1OswWh5b5",
        "outputId": "f28dfc8d-3d33-4726-cfa0-e4c8abb741e5",
        "colab": {
          "base_uri": "https://localhost:8080/"
        }
      },
      "execution_count": 12,
      "outputs": [
        {
          "output_type": "stream",
          "name": "stdout",
          "text": [
            "\n",
            "Min and Max ride durations: 1 minutes, 1372 minutes\n"
          ]
        }
      ]
    },
    {
      "cell_type": "code",
      "source": [
        "# Create a new dataframe object and populate it with rides that are 60 minutes or less.\n",
        "# Hint: Use the .query() method for the dataframe that we used in class.\n",
        "df_60 = df.query('duration <= 60')"
      ],
      "metadata": {
        "id": "K7mStv5kibbA"
      },
      "execution_count": 13,
      "outputs": []
    },
    {
      "cell_type": "code",
      "source": [
        "# Now show both the min and max values of the duration column for your new dataset.\n",
        "min_duration_60 = df_60['duration'].min()\n",
        "max_duration_60 = df_60['duration'].max()\n",
        "print(\"\\nMin and Max ride durations for 60 minutes or less:\", min_duration_60, \"minutes,\", max_duration_60, \"minutes\")"
      ],
      "metadata": {
        "id": "v63UdQjNi-w5",
        "outputId": "5f317820-ce1c-44fa-ef2d-f558640e9ef5",
        "colab": {
          "base_uri": "https://localhost:8080/"
        }
      },
      "execution_count": 14,
      "outputs": [
        {
          "output_type": "stream",
          "name": "stdout",
          "text": [
            "\n",
            "Min and Max ride durations for 60 minutes or less: 1 minutes, 60 minutes\n"
          ]
        }
      ]
    },
    {
      "cell_type": "code",
      "source": [
        "# Using the new dataframe, update it so that is ONLY has records where\n",
        "# the tire_size is 26.\n",
        "df_60_tire26 = df_60.query('tire_size == 26')"
      ],
      "metadata": {
        "id": "xTzb_j9rjGk2"
      },
      "execution_count": 15,
      "outputs": []
    },
    {
      "cell_type": "code",
      "source": [
        "# Finally, produce a count of all records with FEMALE riders\n",
        "# using the 26-inch wheeled rental bikes for their rentals of\n",
        "# one hour or less.\n",
        "female_riders_count = df_60_tire26[df_60_tire26['user_gender'] == 'FEMALE'].shape[0]\n",
        "print(\"\\nCount of FEMALE riders with 26-inch wheeled rental bikes for rentals of one hour or less:\", female_riders_count)"
      ],
      "metadata": {
        "id": "0cwbfj66jrG9",
        "outputId": "aa90ff68-7c18-464f-bf84-99c64ed4606c",
        "colab": {
          "base_uri": "https://localhost:8080/"
        }
      },
      "execution_count": 18,
      "outputs": [
        {
          "output_type": "stream",
          "name": "stdout",
          "text": [
            "\n",
            "Count of FEMALE riders with 26-inch wheeled rental bikes for rentals of one hour or less: 0\n"
          ]
        }
      ]
    },
    {
      "cell_type": "markdown",
      "source": [
        "2. Find the file `more-messy-data.csv` on GitHub and upload it into Google Colab.\n",
        "\n",
        "Create a new Pandas DataFrame from that data and perform the following steps."
      ],
      "metadata": {
        "id": "YIlxzTRQSrl3"
      }
    },
    {
      "cell_type": "code",
      "source": [
        "from google.colab import files\n",
        "uploaded = files.upload()"
      ],
      "metadata": {
        "id": "oRbW3_OaG1E5",
        "outputId": "b8fc848a-6bfd-4e78-fd95-02647df416a6",
        "colab": {
          "base_uri": "https://localhost:8080/",
          "height": 74
        }
      },
      "execution_count": 19,
      "outputs": [
        {
          "output_type": "display_data",
          "data": {
            "text/plain": [
              "<IPython.core.display.HTML object>"
            ],
            "text/html": [
              "\n",
              "     <input type=\"file\" id=\"files-1bf8a26d-1fdc-48fa-a229-237ebeb94d35\" name=\"files[]\" multiple disabled\n",
              "        style=\"border:none\" />\n",
              "     <output id=\"result-1bf8a26d-1fdc-48fa-a229-237ebeb94d35\">\n",
              "      Upload widget is only available when the cell has been executed in the\n",
              "      current browser session. Please rerun this cell to enable.\n",
              "      </output>\n",
              "      <script>// Copyright 2017 Google LLC\n",
              "//\n",
              "// Licensed under the Apache License, Version 2.0 (the \"License\");\n",
              "// you may not use this file except in compliance with the License.\n",
              "// You may obtain a copy of the License at\n",
              "//\n",
              "//      http://www.apache.org/licenses/LICENSE-2.0\n",
              "//\n",
              "// Unless required by applicable law or agreed to in writing, software\n",
              "// distributed under the License is distributed on an \"AS IS\" BASIS,\n",
              "// WITHOUT WARRANTIES OR CONDITIONS OF ANY KIND, either express or implied.\n",
              "// See the License for the specific language governing permissions and\n",
              "// limitations under the License.\n",
              "\n",
              "/**\n",
              " * @fileoverview Helpers for google.colab Python module.\n",
              " */\n",
              "(function(scope) {\n",
              "function span(text, styleAttributes = {}) {\n",
              "  const element = document.createElement('span');\n",
              "  element.textContent = text;\n",
              "  for (const key of Object.keys(styleAttributes)) {\n",
              "    element.style[key] = styleAttributes[key];\n",
              "  }\n",
              "  return element;\n",
              "}\n",
              "\n",
              "// Max number of bytes which will be uploaded at a time.\n",
              "const MAX_PAYLOAD_SIZE = 100 * 1024;\n",
              "\n",
              "function _uploadFiles(inputId, outputId) {\n",
              "  const steps = uploadFilesStep(inputId, outputId);\n",
              "  const outputElement = document.getElementById(outputId);\n",
              "  // Cache steps on the outputElement to make it available for the next call\n",
              "  // to uploadFilesContinue from Python.\n",
              "  outputElement.steps = steps;\n",
              "\n",
              "  return _uploadFilesContinue(outputId);\n",
              "}\n",
              "\n",
              "// This is roughly an async generator (not supported in the browser yet),\n",
              "// where there are multiple asynchronous steps and the Python side is going\n",
              "// to poll for completion of each step.\n",
              "// This uses a Promise to block the python side on completion of each step,\n",
              "// then passes the result of the previous step as the input to the next step.\n",
              "function _uploadFilesContinue(outputId) {\n",
              "  const outputElement = document.getElementById(outputId);\n",
              "  const steps = outputElement.steps;\n",
              "\n",
              "  const next = steps.next(outputElement.lastPromiseValue);\n",
              "  return Promise.resolve(next.value.promise).then((value) => {\n",
              "    // Cache the last promise value to make it available to the next\n",
              "    // step of the generator.\n",
              "    outputElement.lastPromiseValue = value;\n",
              "    return next.value.response;\n",
              "  });\n",
              "}\n",
              "\n",
              "/**\n",
              " * Generator function which is called between each async step of the upload\n",
              " * process.\n",
              " * @param {string} inputId Element ID of the input file picker element.\n",
              " * @param {string} outputId Element ID of the output display.\n",
              " * @return {!Iterable<!Object>} Iterable of next steps.\n",
              " */\n",
              "function* uploadFilesStep(inputId, outputId) {\n",
              "  const inputElement = document.getElementById(inputId);\n",
              "  inputElement.disabled = false;\n",
              "\n",
              "  const outputElement = document.getElementById(outputId);\n",
              "  outputElement.innerHTML = '';\n",
              "\n",
              "  const pickedPromise = new Promise((resolve) => {\n",
              "    inputElement.addEventListener('change', (e) => {\n",
              "      resolve(e.target.files);\n",
              "    });\n",
              "  });\n",
              "\n",
              "  const cancel = document.createElement('button');\n",
              "  inputElement.parentElement.appendChild(cancel);\n",
              "  cancel.textContent = 'Cancel upload';\n",
              "  const cancelPromise = new Promise((resolve) => {\n",
              "    cancel.onclick = () => {\n",
              "      resolve(null);\n",
              "    };\n",
              "  });\n",
              "\n",
              "  // Wait for the user to pick the files.\n",
              "  const files = yield {\n",
              "    promise: Promise.race([pickedPromise, cancelPromise]),\n",
              "    response: {\n",
              "      action: 'starting',\n",
              "    }\n",
              "  };\n",
              "\n",
              "  cancel.remove();\n",
              "\n",
              "  // Disable the input element since further picks are not allowed.\n",
              "  inputElement.disabled = true;\n",
              "\n",
              "  if (!files) {\n",
              "    return {\n",
              "      response: {\n",
              "        action: 'complete',\n",
              "      }\n",
              "    };\n",
              "  }\n",
              "\n",
              "  for (const file of files) {\n",
              "    const li = document.createElement('li');\n",
              "    li.append(span(file.name, {fontWeight: 'bold'}));\n",
              "    li.append(span(\n",
              "        `(${file.type || 'n/a'}) - ${file.size} bytes, ` +\n",
              "        `last modified: ${\n",
              "            file.lastModifiedDate ? file.lastModifiedDate.toLocaleDateString() :\n",
              "                                    'n/a'} - `));\n",
              "    const percent = span('0% done');\n",
              "    li.appendChild(percent);\n",
              "\n",
              "    outputElement.appendChild(li);\n",
              "\n",
              "    const fileDataPromise = new Promise((resolve) => {\n",
              "      const reader = new FileReader();\n",
              "      reader.onload = (e) => {\n",
              "        resolve(e.target.result);\n",
              "      };\n",
              "      reader.readAsArrayBuffer(file);\n",
              "    });\n",
              "    // Wait for the data to be ready.\n",
              "    let fileData = yield {\n",
              "      promise: fileDataPromise,\n",
              "      response: {\n",
              "        action: 'continue',\n",
              "      }\n",
              "    };\n",
              "\n",
              "    // Use a chunked sending to avoid message size limits. See b/62115660.\n",
              "    let position = 0;\n",
              "    do {\n",
              "      const length = Math.min(fileData.byteLength - position, MAX_PAYLOAD_SIZE);\n",
              "      const chunk = new Uint8Array(fileData, position, length);\n",
              "      position += length;\n",
              "\n",
              "      const base64 = btoa(String.fromCharCode.apply(null, chunk));\n",
              "      yield {\n",
              "        response: {\n",
              "          action: 'append',\n",
              "          file: file.name,\n",
              "          data: base64,\n",
              "        },\n",
              "      };\n",
              "\n",
              "      let percentDone = fileData.byteLength === 0 ?\n",
              "          100 :\n",
              "          Math.round((position / fileData.byteLength) * 100);\n",
              "      percent.textContent = `${percentDone}% done`;\n",
              "\n",
              "    } while (position < fileData.byteLength);\n",
              "  }\n",
              "\n",
              "  // All done.\n",
              "  yield {\n",
              "    response: {\n",
              "      action: 'complete',\n",
              "    }\n",
              "  };\n",
              "}\n",
              "\n",
              "scope.google = scope.google || {};\n",
              "scope.google.colab = scope.google.colab || {};\n",
              "scope.google.colab._files = {\n",
              "  _uploadFiles,\n",
              "  _uploadFilesContinue,\n",
              "};\n",
              "})(self);\n",
              "</script> "
            ]
          },
          "metadata": {}
        },
        {
          "output_type": "stream",
          "name": "stdout",
          "text": [
            "Saving more-messy-data.csv to more-messy-data.csv\n"
          ]
        }
      ]
    },
    {
      "cell_type": "code",
      "source": [
        "import pandas as pd"
      ],
      "metadata": {
        "id": "YKLlGpmBHqbu"
      },
      "execution_count": 21,
      "outputs": []
    },
    {
      "cell_type": "code",
      "source": [
        "df_new= pd.read_csv('more-messy-data.csv')"
      ],
      "metadata": {
        "id": "nHLQp4YYHrP0"
      },
      "execution_count": 24,
      "outputs": []
    },
    {
      "cell_type": "code",
      "source": [
        "# Write a snippet of code that will display the number of duplicate rows exist in the DF.\n",
        "duplicate_rows = df_new.duplicated().sum()\n",
        "print(\"Number of duplicate rows:\", duplicate_rows)"
      ],
      "metadata": {
        "id": "6O1caoy6S82Q",
        "outputId": "3e7c82a2-ea3c-4be0-d0db-6ec2ec3497a8",
        "colab": {
          "base_uri": "https://localhost:8080/"
        }
      },
      "execution_count": 25,
      "outputs": [
        {
          "output_type": "stream",
          "name": "stdout",
          "text": [
            "Number of duplicate rows: 287\n"
          ]
        }
      ]
    },
    {
      "cell_type": "code",
      "source": [
        "# Next, remove all duplicate rows using Python.\n",
        "df_new.drop_duplicates(inplace=True)"
      ],
      "metadata": {
        "id": "-pDZ2xA-S8vd"
      },
      "execution_count": 26,
      "outputs": []
    },
    {
      "cell_type": "code",
      "source": [
        "# Identifying columns to fill NaN values with mean\n",
        "columns_to_fill = ['sepal_length', 'sepal_width', 'petal_length', 'petal_width']\n",
        "\n",
        "# Replacing NaN with the mean of the column\n",
        "df_new[columns_to_fill] = df_new[columns_to_fill].apply(lambda x: x.fillna(x.mean()) if x.dtype.kind in 'biufc' else x)"
      ],
      "metadata": {
        "id": "Quf-P7L4S8oh"
      },
      "execution_count": 27,
      "outputs": []
    },
    {
      "cell_type": "code",
      "source": [
        "# Find any values in the dataframe that are still missing, and delete them.\n",
        "df_new.dropna(inplace=True)"
      ],
      "metadata": {
        "id": "en_ReYsAS8f-"
      },
      "execution_count": 28,
      "outputs": []
    },
    {
      "cell_type": "code",
      "source": [
        "# How many different species are there?\n",
        "unique_species_count = df_new['species'].nunique()\n",
        "print(\"Number of unique species:\", unique_species_count)"
      ],
      "metadata": {
        "id": "uqV9IHwDS75a",
        "outputId": "240f7e12-4dc0-41ac-f64c-2d896d66ada7",
        "colab": {
          "base_uri": "https://localhost:8080/"
        }
      },
      "execution_count": 29,
      "outputs": [
        {
          "output_type": "stream",
          "name": "stdout",
          "text": [
            "Number of unique species: 9\n"
          ]
        }
      ]
    },
    {
      "cell_type": "code",
      "source": [
        "# Normalizing 'species' names\n",
        "df_new['species'] = df_new['species'].replace({\n",
        "    'Versicolor': 'versicolor',\n",
        "    'Viginica': 'virginica',\n",
        "    'Virginia': 'virginica',\n",
        "    'setoso': 'setosa',\n",
        "    'Setosa': 'setosa',\n",
        "    'Setosan': 'setosa'\n",
        "})\n",
        "\n",
        "# Verifying the cleanup\n",
        "unique_species_count_final = df_new['species'].nunique()\n",
        "unique_species_values_final = df_new['species'].unique()\n",
        "print(\"Final count of unique species:\", unique_species_count_final)\n",
        "print(\"Final unique species values:\", unique_species_values_final)"
      ],
      "metadata": {
        "id": "G2j8HDgYT52P",
        "outputId": "ca1ae33d-e8aa-449f-ae41-47a75d996e78",
        "colab": {
          "base_uri": "https://localhost:8080/"
        }
      },
      "execution_count": 30,
      "outputs": [
        {
          "output_type": "stream",
          "name": "stdout",
          "text": [
            "Final count of unique species: 3\n",
            "Final unique species values: ['virginica' 'setosa' 'versicolor']\n"
          ]
        }
      ]
    },
    {
      "cell_type": "markdown",
      "source": [
        "3. Bonus:  Regular expressions\n",
        "\n",
        "Ordinary (non-vanity) Virginia license plates have the form `ABC1234`, meaning they have three upper case letters followed by four digits.  Write a regular expression that matches any string of this form (and doesn't match anything else).  Test your expression with code to make sure it works.\n",
        "\n",
        "To figure out out how to do this, start with the sample code below.  The `re` package has various functions related to regular expressions, including for example `match()`, which takes two arguments, first the regular expression and second the test string, and tests to see whether the *beginning* of the `test` string matches the pattern `exp`.\n",
        "\n",
        "Note that `re.match(exp,test)` does not return a boolean variable, as you might expect (in other words, a match doesn't return `True` and a non-match `False`).  The type of object you get is called `re.Match`, which is a data type special to the `re` package.  (The reason for this is that the object contains more information than just whether there is a match or not.) However, you can turn it into a boolean using `bool()` if you want.\n",
        "\n",
        "Include the following in the notebook you submit:\n",
        "\n",
        " 1. A regular expression in a text chunk\n",
        " 2. One or more code chunks in which you test several strings to verify that your regex is correct.\n",
        " 3. Make sure you display the results of testing various strings.\n",
        "\n",
        " See this [documentation page](https://docs.python.org/3/howto/regex.html#regex-howto) for further help."
      ],
      "metadata": {
        "id": "CsMBqFDmX7Ax"
      }
    },
    {
      "cell_type": "code",
      "source": [
        "import re"
      ],
      "metadata": {
        "id": "r57mhVMHJXA4"
      },
      "execution_count": 31,
      "outputs": []
    },
    {
      "cell_type": "code",
      "source": [
        "# Regular expression for Virginia license plates: Three uppercase letters followed by four digits\n",
        "exp = '^[A-Z]{3}\\d{4}$'"
      ],
      "metadata": {
        "id": "FFRRaZZWJYZ7"
      },
      "execution_count": 32,
      "outputs": []
    },
    {
      "cell_type": "code",
      "source": [
        "# List of test strings\n",
        "tests = ['ABC1234', 'AB1234', 'abcd1234', 'ABCDEFG', '1234567', 'ABC12345', 'XYZ9876']\n",
        "\n",
        "# Loop through each test string to see if it matches the regular expression\n",
        "for test in tests:\n",
        "    if re.match(exp, test):\n",
        "        print(f\"'{test}': match\")\n",
        "    else:\n",
        "        print(f\"'{test}': no match\")"
      ],
      "metadata": {
        "id": "VL8wECX6JcNl",
        "outputId": "c47c8c75-27cc-4e42-82a2-c386bb22b7fb",
        "colab": {
          "base_uri": "https://localhost:8080/"
        }
      },
      "execution_count": 33,
      "outputs": [
        {
          "output_type": "stream",
          "name": "stdout",
          "text": [
            "'ABC1234': match\n",
            "'AB1234': no match\n",
            "'abcd1234': no match\n",
            "'ABCDEFG': no match\n",
            "'1234567': no match\n",
            "'ABC12345': no match\n",
            "'XYZ9876': match\n"
          ]
        }
      ]
    }
  ]
}