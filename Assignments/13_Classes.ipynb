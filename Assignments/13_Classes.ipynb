{
  "nbformat": 4,
  "nbformat_minor": 0,
  "metadata": {
    "colab": {
      "provenance": [],
      "include_colab_link": true
    },
    "kernelspec": {
      "name": "python3",
      "display_name": "Python 3"
    },
    "language_info": {
      "name": "python"
    }
  },
  "cells": [
    {
      "cell_type": "markdown",
      "metadata": {
        "id": "view-in-github",
        "colab_type": "text"
      },
      "source": [
        "<a href=\"https://colab.research.google.com/github/willyan041107/DS1002/blob/main/Assignments/13_Classes.ipynb\" target=\"_parent\"><img src=\"https://colab.research.google.com/assets/colab-badge.svg\" alt=\"Open In Colab\"/></a>"
      ]
    },
    {
      "cell_type": "markdown",
      "source": [
        "## Assignment:  Classes\n",
        "### Due Sunday 28 April at 10pm"
      ],
      "metadata": {
        "id": "5Vy93BSp9Tum"
      }
    },
    {
      "cell_type": "markdown",
      "source": [
        "1.  Define a class called `Person` that has attributes `lastName`, `firstName`, `mother`, and `father`.  Both `mother` and `father` should have default value `unknown`.\n",
        "\n",
        "  Include a `__str__()` function that returns a string of the form '`firstName` `lastName`'.\n",
        "\n",
        "  Include a `__repr__()` function that returns a string that can be evaluated to recreate the `Person` object.\n",
        "\n"
      ],
      "metadata": {
        "id": "vcj5XQAI9Wsb"
      }
    },
    {
      "cell_type": "code",
      "source": [
        "class Person:\n",
        "    def __init__(self, firstName, lastName, mother=\"unknown\", father=\"unknown\"):\n",
        "        self.firstName = firstName\n",
        "        self.lastName = lastName\n",
        "        self.mother = mother\n",
        "        self.father = father\n",
        "\n",
        "    def __str__(self):\n",
        "        return f\"{self.firstName} {self.lastName}\"\n",
        "\n",
        "    def __repr__(self):\n",
        "        return f\"Person('{self.firstName}', '{self.lastName}', '{self.mother}', '{self.father}')\""
      ],
      "metadata": {
        "id": "mjHDwHv3EpVe"
      },
      "execution_count": 9,
      "outputs": []
    },
    {
      "cell_type": "markdown",
      "source": [
        "Create a person (i.e., a `Person` object) called `p` with unknown parents.  (You will need to give your person a first and last name.) Check the type of `p`.  Include all inputs and outputs."
      ],
      "metadata": {
        "id": "-ppMsEIVHINl"
      }
    },
    {
      "cell_type": "code",
      "source": [
        "# Creating a person with unknown parents\n",
        "p = Person(\"John\", \"Doe\")\n",
        "\n",
        "# Checking the type of p\n",
        "print(type(p))"
      ],
      "metadata": {
        "id": "5bwid_6gHIBH",
        "colab": {
          "base_uri": "https://localhost:8080/"
        },
        "outputId": "d98b0703-35a2-4e7f-ea51-0d1b4c306634"
      },
      "execution_count": 10,
      "outputs": [
        {
          "output_type": "stream",
          "name": "stdout",
          "text": [
            "<class '__main__.Person'>\n"
          ]
        }
      ]
    },
    {
      "cell_type": "markdown",
      "source": [
        "Verify that your `__str__` and `__repr__` functions are doing what they are supposed to do.  Include all inputs and outputs."
      ],
      "metadata": {
        "id": "Z6zlUC3xRtal"
      }
    },
    {
      "cell_type": "code",
      "source": [
        "# Verifying __str__ function\n",
        "print(str(p))  # Output should be \"John Doe\"\n",
        "\n",
        "# Verifying __repr__ function\n",
        "print(repr(p))  # Output should be \"Person(firstName='John', lastName='Doe', mother='unknown', father='unknown')\""
      ],
      "metadata": {
        "id": "jZO0dBQYRs-K",
        "colab": {
          "base_uri": "https://localhost:8080/"
        },
        "outputId": "4f63a265-71ee-4c75-cb18-9333a557ec12"
      },
      "execution_count": 11,
      "outputs": [
        {
          "output_type": "stream",
          "name": "stdout",
          "text": [
            "John Doe\n",
            "Person('John', 'Doe', 'unknown', 'unknown')\n"
          ]
        }
      ]
    },
    {
      "cell_type": "markdown",
      "source": [
        "Suppose the mother of `p` has been found and is named Taylor Swift.  Create a new person named Taylor Swift, and make her the mother of `p`:\n",
        "\n",
        "```\n",
        "> p.mother\n",
        "'Taylor Swift'\n",
        "```"
      ],
      "metadata": {
        "id": "1mOAThQiHzoQ"
      }
    },
    {
      "cell_type": "code",
      "source": [
        "# Creating a person to represent Taylor Swift\n",
        "taylor_swift = Person(\"Taylor\", \"Swift\")\n",
        "\n",
        "# Assigning Taylor Swift as the mother of John Doe\n",
        "p.mother = taylor_swift\n",
        "\n",
        "# Checking the mother attribute\n",
        "print(p.mother)"
      ],
      "metadata": {
        "id": "NYbDOorpHymz",
        "colab": {
          "base_uri": "https://localhost:8080/"
        },
        "outputId": "261bbe6c-4b32-4cfc-c1bf-c4cce8d5a960"
      },
      "execution_count": 12,
      "outputs": [
        {
          "output_type": "stream",
          "name": "stdout",
          "text": [
            "Taylor Swift\n"
          ]
        }
      ]
    },
    {
      "cell_type": "markdown",
      "source": [
        "2.  Add some methods to your class.  Start by copying the `class` definition you already wrote.  Then, inside the `class` definition:\n",
        "\n",
        "  (a) Write a method called `unknownParent()` which returns `True` if any parent is 'unknown' and `False` otherwise.\n",
        "\n",
        "  (b) Write a method called `maternalGrandmother()` which returns the mother's mother.  If the mother is unknown, it should return 'unknown'.\n",
        "\n"
      ],
      "metadata": {
        "id": "1g1pcrmFHzGh"
      }
    },
    {
      "cell_type": "code",
      "source": [
        "class Person:\n",
        "    def __init__(self, firstName, lastName, mother=\"unknown\", father=\"unknown\"):\n",
        "        self.firstName = firstName\n",
        "        self.lastName = lastName\n",
        "        self.mother = mother\n",
        "        self.father = father\n",
        "\n",
        "    def __str__(self):\n",
        "        return f\"{self.firstName} {self.lastName}\"\n",
        "\n",
        "    def __repr__(self):\n",
        "        return f\"Person(firstName='{self.firstName}', lastName='{self.lastName}', mother='{self.mother}', father='{self.father}')\"\n",
        "\n",
        "    def unknownParent(self):\n",
        "        return self.mother == \"unknown\" or self.father == \"unknown\"\n",
        "        if (isinstance(self.mother, Person)) & (isinstance(self.father, Person)):\n",
        "            return False\n",
        "        else:\n",
        "           return True\n",
        "\n",
        "    def maternalGrandmother(self):\n",
        "        if isinstance(self.mother, Person):\n",
        "            return self.mother.mother\n",
        "        else:\n",
        "            return \"unknown\""
      ],
      "metadata": {
        "id": "7mIxJGwwKTpv"
      },
      "execution_count": 17,
      "outputs": []
    },
    {
      "cell_type": "markdown",
      "source": [
        "Create enough `Person` objects to test whether your methods are working properly.  Show all your inputs and outputs.  It is up to you to demonstrate that you have thoroughly tested the code.  You may use additional code and/or text chunks if it helps."
      ],
      "metadata": {
        "id": "l9-4gxd8FxAQ"
      }
    },
    {
      "cell_type": "code",
      "source": [
        "# Creating Person objects\n",
        "andrea = Person(\"Andrea\", \"Swift\")\n",
        "taylor_swift = Person(\"Taylor\", \"Swift\", mother=andrea)\n",
        "emma = Person(\"Emma\", \"Stone\", mother=taylor_swift)\n",
        "john = Person(\"John\", \"Doe\")\n",
        "olivia = Person(\"Keer\", \"Xu\", mother='Keyi Xu', father=\"Shunfeng Zhang\")\n",
        "kevin = Person(\"Kevin\", \"Wang\",  father=\"Daniel Wang\")\n",
        "\n",
        "# Testing unknownParent() method\n",
        "print(john.unknownParent())  # Output: True (both parents unknown)\n",
        "print(emma.unknownParent())  # Output: True (unknown father)\n",
        "print(olivia.unknownParent()) # Output: False (known parents)\n",
        "print(kevin.unknownParent()) # Output: True (unknown mother)\n",
        "\n",
        "# Testing maternalGrandmother() method\n",
        "print(emma.maternalGrandmother())  # Output: Andrea Swift (mother's mother)\n",
        "print(john.maternalGrandmother())  # Output: unknown (no known mother)"
      ],
      "metadata": {
        "id": "gX1qpcKzFwoZ",
        "colab": {
          "base_uri": "https://localhost:8080/"
        },
        "outputId": "21d8866a-7603-435f-8995-85b48c838fa8"
      },
      "execution_count": 19,
      "outputs": [
        {
          "output_type": "stream",
          "name": "stdout",
          "text": [
            "True\n",
            "True\n",
            "False\n",
            "True\n",
            "Andrea Swift\n",
            "unknown\n"
          ]
        }
      ]
    }
  ]
}