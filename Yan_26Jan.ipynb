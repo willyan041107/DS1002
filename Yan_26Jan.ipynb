{
  "nbformat": 4,
  "nbformat_minor": 0,
  "metadata": {
    "colab": {
      "provenance": [],
      "include_colab_link": true
    },
    "kernelspec": {
      "name": "python3",
      "display_name": "Python 3"
    },
    "language_info": {
      "name": "python"
    }
  },
  "cells": [
    {
      "cell_type": "markdown",
      "metadata": {
        "id": "view-in-github",
        "colab_type": "text"
      },
      "source": [
        "<a href=\"https://colab.research.google.com/github/willyan041107/DS1002/blob/main/Yan_26Jan.ipynb\" target=\"_parent\"><img src=\"https://colab.research.google.com/assets/colab-badge.svg\" alt=\"Open In Colab\"/></a>"
      ]
    },
    {
      "cell_type": "markdown",
      "source": [
        "I've read the syllabus and am ready to proceed with the assignment.\n"
      ],
      "metadata": {
        "id": "seF3Wbms1XvH"
      }
    },
    {
      "cell_type": "code",
      "source": [
        "integer_variable = 7\n",
        "string_variable = \"Hello, world!\"\n",
        "\n",
        "# Print the square of the integer\n",
        "print(integer_variable ** 2)\n",
        "\n",
        "# What happens if you try to add the integer and the string together?\n",
        "# This will result in a TypeError because Python does not support concatenation of strings and integers directly"
      ],
      "metadata": {
        "colab": {
          "base_uri": "https://localhost:8080/"
        },
        "id": "lS44bdze1YXe",
        "outputId": "edfa41af-dff8-4ecb-e2c1-927aa50bc3bf"
      },
      "execution_count": null,
      "outputs": [
        {
          "output_type": "stream",
          "name": "stdout",
          "text": [
            "49\n"
          ]
        }
      ]
    },
    {
      "cell_type": "code",
      "source": [
        "# Define a new variable with a list of four entries of different types\n",
        "mixed_list = [42, \"Python\", 3.14, True]\n",
        "\n",
        "# Print out the data type of the final item on the list\n",
        "print(type(mixed_list[-1]))"
      ],
      "metadata": {
        "colab": {
          "base_uri": "https://localhost:8080/"
        },
        "id": "VrQIO5SJ1wM-",
        "outputId": "ad74767e-6fea-4f4e-c0bd-92d1b072d0ba"
      },
      "execution_count": null,
      "outputs": [
        {
          "output_type": "stream",
          "name": "stdout",
          "text": [
            "<class 'bool'>\n"
          ]
        }
      ]
    }
  ]
}