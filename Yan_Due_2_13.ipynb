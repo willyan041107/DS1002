{
  "cells": [
    {
      "cell_type": "markdown",
      "metadata": {
        "id": "view-in-github",
        "colab_type": "text"
      },
      "source": [
        "<a href=\"https://colab.research.google.com/github/willyan041107/DS1002/blob/main/Yan_Due_2_13.ipynb\" target=\"_parent\"><img src=\"https://colab.research.google.com/assets/colab-badge.svg\" alt=\"Open In Colab\"/></a>"
      ]
    },
    {
      "cell_type": "code",
      "execution_count": 1,
      "metadata": {
        "id": "YVnhckGpeik6"
      },
      "outputs": [],
      "source": [
        "import numpy as np"
      ]
    },
    {
      "cell_type": "code",
      "execution_count": 2,
      "metadata": {
        "id": "pxEBcGAYekw0"
      },
      "outputs": [],
      "source": [
        "def guess_the_number():\n",
        "    number_to_guess = np.random.randint(0, 101)\n",
        "    print(\"I've chosen a number between 0 and 100. Try to guess it!\")\n",
        "    guesses = 0\n",
        "\n",
        "    while True:\n",
        "        try:\n",
        "            guess = int(input(\"Your guess: \"))\n",
        "            if guess < 0 or guess > 100:\n",
        "                print(\"Remember, the number is between 0 and 100. Try again.\")\n",
        "                continue\n",
        "        except ValueError:\n",
        "            print(\"That's not an integer. Please enter an integer.\")\n",
        "            continue\n",
        "\n",
        "        guesses += 1\n",
        "\n",
        "        if guess < number_to_guess:\n",
        "            print(\"Too low.\")\n",
        "        elif guess > number_to_guess:\n",
        "            print(\"Too high.\")\n",
        "        else:\n",
        "            print(f\"You got it! The number was {number_to_guess}.\")\n",
        "            print(f\"It took you {guesses} valid guesses.\")\n",
        "            break"
      ]
    },
    {
      "cell_type": "code",
      "source": [
        "guess_the_number()"
      ],
      "metadata": {
        "colab": {
          "base_uri": "https://localhost:8080/"
        },
        "id": "rHu8DHJlBGbI",
        "outputId": "2cfa9b05-b474-474d-f2f1-6ac71da34ac8"
      },
      "execution_count": 4,
      "outputs": [
        {
          "output_type": "stream",
          "name": "stdout",
          "text": [
            "I've chosen a number between 0 and 100. Try to guess it!\n",
            "Your guess: 90\n",
            "Too high.\n",
            "Your guess: 89\n",
            "Too high.\n",
            "Your guess: 34\n",
            "Too low.\n",
            "Your guess: 56\n",
            "Too low.\n",
            "Your guess: 77\n",
            "Too high.\n",
            "Your guess: 59\n",
            "Too high.\n",
            "Your guess: 58\n",
            "You got it! The number was 58.\n",
            "It took you 7 valid guesses.\n"
          ]
        }
      ]
    }
  ],
  "metadata": {
    "colab": {
      "provenance": [],
      "authorship_tag": "ABX9TyPER+1TVYNbgY2aw8+FyOr9",
      "include_colab_link": true
    },
    "kernelspec": {
      "display_name": "Python 3",
      "name": "python3"
    },
    "language_info": {
      "name": "python"
    }
  },
  "nbformat": 4,
  "nbformat_minor": 0
}